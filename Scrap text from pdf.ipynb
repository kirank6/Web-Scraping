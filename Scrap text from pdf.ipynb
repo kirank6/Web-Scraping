{
 "cells": [
  {
   "cell_type": "code",
   "execution_count": 1,
   "metadata": {},
   "outputs": [],
   "source": [
    "import PyPDF2"
   ]
  },
  {
   "cell_type": "code",
   "execution_count": 2,
   "metadata": {},
   "outputs": [],
   "source": [
    "# pdf file object\n",
    "pdf_file = open('Intro_ML_Python.pdf','rb')"
   ]
  },
  {
   "cell_type": "code",
   "execution_count": 3,
   "metadata": {},
   "outputs": [],
   "source": [
    "#pdf reader object\n",
    "pdf_reader = PyPDF2.PdfFileReader(pdf_file)"
   ]
  },
  {
   "cell_type": "code",
   "execution_count": 4,
   "metadata": {},
   "outputs": [
    {
     "name": "stdout",
     "output_type": "stream",
     "text": [
      "394\n"
     ]
    }
   ],
   "source": [
    "# number of pages in pdf\n",
    "print(pdf_reader.numPages)"
   ]
  },
  {
   "cell_type": "code",
   "execution_count": 5,
   "metadata": {},
   "outputs": [],
   "source": [
    "# a page object from the pdf file object\n",
    "pageObj = pdf_reader.getPage(13)"
   ]
  },
  {
   "cell_type": "code",
   "execution_count": 6,
   "metadata": {},
   "outputs": [
    {
     "name": "stdout",
     "output_type": "stream",
     "text": [
      "I‡m also thankful for the discussions with many of my colleagues and peers that hel…\n",
      "ped me understand the challenges of machine learning and gave me ideas for struc…\n",
      "turing a textbook. Among the people I talk to about machine learning, I specificallywant to thank Brian McFee, Daniela Huttenkoppen, Joel Nothman, Gilles Louppe,\n",
      "Hugo Bowne-Anderson, Sven Kreis, Alice Zheng, Kyunghyun Cho, Pablo Baberas,\n",
      "and Dan Cervone.\n",
      "My thanks also go out to Rachel Rakov, who was an eager beta tester and proofreader\n",
      "of an early version of this book, and helped me shape it in many ways.\n",
      "On the personal side, I want to thank my parents, Harald and Margot, and my sister,\n",
      "Miriam, for their continuing support and encouragement. I also want to thank the\n",
      "many people in my life whose love and friendship gave me the energy and support to\n",
      "undertake such a challenging task.From SarahI would like to thank Meg Blanchette, without whose help and guidance this project\n",
      "would not have even existed. Thanks to Celia La and Brian Carlson for reading in the\n",
      "early days. Thanks to the O‡Reilly folks for their endless patience. And finally, thanks\n",
      "to DTS, for your everlasting and endless support.xii | Preface\n",
      "\n"
     ]
    }
   ],
   "source": [
    "# extracting text from page.\n",
    "# this will print the text you can also save that into String\n",
    "print(pageObj.extractText())"
   ]
  },
  {
   "cell_type": "code",
   "execution_count": 7,
   "metadata": {},
   "outputs": [
    {
     "name": "stdout",
     "output_type": "stream",
     "text": [
      "PrefaceMachine learning is an integral part of many commercial applications and research\n",
      "projects today, in areas ranging from medical diagnosis and treatment to finding your\n",
      "friends on social networks. Many people think that machine learning can only be\n",
      "applied by large companies with extensive research teams. In this book, we want to\n",
      "show you how easy it can be to build machine learning solutions yourself, and how tobest go about it. With the knowledge in this book, you can build your own system for\n",
      "finding out how people feel on Twitter, or making predictions about global warming.\n",
      "The applications of machine learning are endless and, with the amount of data avail…\n",
      "able today, mostly limited by your imagination.\n",
      "Who Should Read This BookThis book is for current and aspiring machine learning practitioners looking to\n",
      "implement solutions to real-world machine learning problems. This is an introduc…\n",
      "tory book requiring no previous knowledge of machine learning or artificial intelli…\n",
      "gence (AI). We focus on using Python and the \n",
      "scikit-learn library, and work\n",
      "through all the steps to create a successful machine learning application. The meth…\n",
      "ods we introduce will be helpful for scientists and researchers, as well as data scien…\n",
      "tists working on commercial applications. You will get the most out of the book if you\n",
      "are somewhat familiar with Python and the NumPy and \n",
      "matplotlib libraries.We made a conscious effort not to focus too much on the math, but rather on the\n",
      "practical aspects of using machine learning algorithms. As mathematics (probability\n",
      "theory, in particular) is the foundation upon which machine learning is built, we\n",
      "won‡t go into the analysis of the algorithms in great detail. If you are interested in the\n",
      "mathematics of machine learning algorithms, we recommend the book \n",
      "•e Elements\n",
      "of Statistical Learning\n",
      " (Springer) by Trevor Hastie, Robert Tibshirani, and Jerome\n",
      "Friedman, which is available for free at \n",
      "the authors‡ website\n",
      ". We will also not describe\n",
      "how to write machine learning algorithms from scratch, and will instead focus on\n",
      "vii\n"
     ]
    }
   ],
   "source": [
    "pageObj8 = pdf_reader.getPage(8)\n",
    "print(pageObj8.extractText())"
   ]
  },
  {
   "cell_type": "code",
   "execution_count": 8,
   "metadata": {},
   "outputs": [],
   "source": [
    "# Creae and opend a file to write \n",
    "New_file = 'copied_file.txt'\n",
    "newfile = open(New_file, 'w')"
   ]
  },
  {
   "cell_type": "code",
   "execution_count": 9,
   "metadata": {},
   "outputs": [],
   "source": [
    "# Wrtie the extracted string and close the file\n",
    "newfile.write(pageObj8.extractText())\n",
    "newfile.close()"
   ]
  }
 ],
 "metadata": {
  "kernelspec": {
   "display_name": "Python 3",
   "language": "python",
   "name": "python3"
  },
  "language_info": {
   "codemirror_mode": {
    "name": "ipython",
    "version": 3
   },
   "file_extension": ".py",
   "mimetype": "text/x-python",
   "name": "python",
   "nbconvert_exporter": "python",
   "pygments_lexer": "ipython3",
   "version": "3.7.3"
  }
 },
 "nbformat": 4,
 "nbformat_minor": 2
}
